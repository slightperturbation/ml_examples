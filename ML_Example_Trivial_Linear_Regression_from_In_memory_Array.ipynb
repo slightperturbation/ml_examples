{
  "nbformat": 4,
  "nbformat_minor": 0,
  "metadata": {
    "colab": {
      "name": "ML Example: Trivial Linear Regression from In-memory Array",
      "provenance": [],
      "collapsed_sections": [],
      "authorship_tag": "ABX9TyOcZExnKFRN9hvPxkIxcy5e",
      "include_colab_link": true
    },
    "kernelspec": {
      "name": "python3",
      "display_name": "Python 3"
    }
  },
  "cells": [
    {
      "cell_type": "markdown",
      "metadata": {
        "id": "view-in-github",
        "colab_type": "text"
      },
      "source": [
        "<a href=\"https://colab.research.google.com/github/slightperturbation/ml_examples/blob/master/ML_Example_Trivial_Linear_Regression_from_In_memory_Array.ipynb\" target=\"_parent\"><img src=\"https://colab.research.google.com/assets/colab-badge.svg\" alt=\"Open In Colab\"/></a>"
      ]
    },
    {
      "cell_type": "code",
      "metadata": {
        "id": "wcPT4oqNJBKS",
        "colab_type": "code",
        "colab": {
          "base_uri": "https://localhost:8080/",
          "height": 51
        },
        "outputId": "8f923743-df2a-4299-9996-2afb13d61876"
      },
      "source": [
        "import tensorflow as tf\n",
        "import numpy as np\n",
        "\n",
        "x = [0, 1, 2, 3, 4, 5, 6, 7, 8, 9]\n",
        "y = [2.*x+1.2 for x in x]\n",
        "\n",
        "print(\"Learning to map \", x, \" into \", y)\n",
        "\n",
        "model = tf.keras.Sequential(\n",
        "    [\n",
        "     tf.keras.layers.Dense(1, activation='linear', input_shape=[1])\n",
        "     ])\n",
        "\n",
        "model.compile(optimizer=tf.keras.optimizers.RMSprop(0.01), loss='mse')\n",
        "history = model.fit(x, y, epochs=500, verbose=0)\n",
        "\n",
        "print(\"Result: \", float(model.weights[0]), \"x + \", float(model.weights[1]))"
      ],
      "execution_count": null,
      "outputs": [
        {
          "output_type": "stream",
          "text": [
            "Learning to map  [0, 1, 2, 3, 4, 5, 6, 7, 8, 9]  into  [1.2, 3.2, 5.2, 7.2, 9.2, 11.2, 13.2, 15.2, 17.2, 19.2]\n",
            "Result:  2.004999876022339 x +  1.204999327659607\n"
          ],
          "name": "stdout"
        }
      ]
    }
  ]
}