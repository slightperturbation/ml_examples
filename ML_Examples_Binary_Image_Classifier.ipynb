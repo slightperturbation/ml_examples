{
  "nbformat": 4,
  "nbformat_minor": 0,
  "metadata": {
    "colab": {
      "name": "ML Examples: Binary Image Classifier",
      "provenance": [],
      "collapsed_sections": [],
      "authorship_tag": "ABX9TyM+ZovK8P5AO9OslBNDSTiC",
      "include_colab_link": true
    },
    "kernelspec": {
      "name": "python3",
      "display_name": "Python 3"
    },
    "accelerator": "GPU"
  },
  "cells": [
    {
      "cell_type": "markdown",
      "metadata": {
        "id": "view-in-github",
        "colab_type": "text"
      },
      "source": [
        "<a href=\"https://colab.research.google.com/github/slightperturbation/ml_examples/blob/master/ML_Examples_Binary_Image_Classifier.ipynb\" target=\"_parent\"><img src=\"https://colab.research.google.com/assets/colab-badge.svg\" alt=\"Open In Colab\"/></a>"
      ]
    },
    {
      "cell_type": "markdown",
      "metadata": {
        "id": "aC-gHLf7Habt",
        "colab_type": "text"
      },
      "source": [
        "# Binary Image Classifier\n",
        "\n",
        "Binary classification is a little different from multi-class. It uses a single sigmoid instead of a softmax layer for output, and needs to specify a different loss function and metric.\n",
        "\n",
        "This example is based on the Google/Udacity course's example of distinguishing horses and humans."
      ]
    },
    {
      "cell_type": "code",
      "metadata": {
        "id": "iTLUbN1aEEy_",
        "colab_type": "code",
        "colab": {}
      },
      "source": [
        "import tensorflow as tf\n",
        "import os\n",
        "import zipfile"
      ],
      "execution_count": null,
      "outputs": []
    },
    {
      "cell_type": "markdown",
      "metadata": {
        "id": "oB4BgcmgFcRf",
        "colab_type": "text"
      },
      "source": [
        "# Input\n",
        "\n",
        "This example downloads and unzips data files into /tmp using colab."
      ]
    },
    {
      "cell_type": "code",
      "metadata": {
        "id": "KL-eJMnYFqa-",
        "colab_type": "code",
        "colab": {
          "base_uri": "https://localhost:8080/",
          "height": 411
        },
        "outputId": "be813b25-e0f1-437a-cbf3-d8a3c3ac5bcd"
      },
      "source": [
        "!wget --no-check-certificate \\\n",
        "    https://storage.googleapis.com/laurencemoroney-blog.appspot.com/horse-or-human.zip \\\n",
        "    -O /tmp/horse-or-human.zip\n",
        "\n",
        "!wget --no-check-certificate \\\n",
        "    https://storage.googleapis.com/laurencemoroney-blog.appspot.com/validation-horse-or-human.zip \\\n",
        "    -O /tmp/validation-horse-or-human.zip\n",
        "  \n",
        "local_zip = '/tmp/horse-or-human.zip'\n",
        "zip_ref = zipfile.ZipFile(local_zip, 'r')\n",
        "zip_ref.extractall('/tmp/horse-or-human')\n",
        "local_zip = '/tmp/validation-horse-or-human.zip'\n",
        "zip_ref = zipfile.ZipFile(local_zip, 'r')\n",
        "zip_ref.extractall('/tmp/validation-horse-or-human')\n",
        "zip_ref.close()\n",
        "# Directory with our training horse pictures\n",
        "train_horse_dir = os.path.join('/tmp/horse-or-human/horses')\n",
        "\n",
        "# Directory with our training human pictures\n",
        "train_human_dir = os.path.join('/tmp/horse-or-human/humans')\n",
        "\n",
        "# Directory with our training horse pictures\n",
        "validation_horse_dir = os.path.join('/tmp/validation-horse-or-human/horses')\n",
        "\n",
        "# Directory with our training human pictures\n",
        "validation_human_dir = os.path.join('/tmp/validation-horse-or-human/humans')"
      ],
      "execution_count": null,
      "outputs": [
        {
          "output_type": "stream",
          "text": [
            "--2020-08-24 03:23:58--  https://storage.googleapis.com/laurencemoroney-blog.appspot.com/horse-or-human.zip\n",
            "Resolving storage.googleapis.com (storage.googleapis.com)... 64.233.188.128, 108.177.97.128, 108.177.125.128, ...\n",
            "Connecting to storage.googleapis.com (storage.googleapis.com)|64.233.188.128|:443... connected.\n",
            "HTTP request sent, awaiting response... 200 OK\n",
            "Length: 149574867 (143M) [application/zip]\n",
            "Saving to: ‘/tmp/horse-or-human.zip’\n",
            "\n",
            "/tmp/horse-or-human 100%[===================>] 142.65M  62.1MB/s    in 2.3s    \n",
            "\n",
            "2020-08-24 03:24:00 (62.1 MB/s) - ‘/tmp/horse-or-human.zip’ saved [149574867/149574867]\n",
            "\n",
            "--2020-08-24 03:24:02--  https://storage.googleapis.com/laurencemoroney-blog.appspot.com/validation-horse-or-human.zip\n",
            "Resolving storage.googleapis.com (storage.googleapis.com)... 64.233.189.128, 108.177.97.128, 108.177.125.128, ...\n",
            "Connecting to storage.googleapis.com (storage.googleapis.com)|64.233.189.128|:443... connected.\n",
            "HTTP request sent, awaiting response... 200 OK\n",
            "Length: 11480187 (11M) [application/zip]\n",
            "Saving to: ‘/tmp/validation-horse-or-human.zip’\n",
            "\n",
            "/tmp/validation-hor 100%[===================>]  10.95M  --.-KB/s    in 0.1s    \n",
            "\n",
            "2020-08-24 03:24:02 (114 MB/s) - ‘/tmp/validation-horse-or-human.zip’ saved [11480187/11480187]\n",
            "\n"
          ],
          "name": "stdout"
        }
      ]
    },
    {
      "cell_type": "markdown",
      "metadata": {
        "id": "Y0tOrjJFLYZH",
        "colab_type": "text"
      },
      "source": [
        "The ImageDataGenerator streams from the directory and augments the data with a variety of transformations."
      ]
    },
    {
      "cell_type": "code",
      "metadata": {
        "id": "JeA7WZ86TKZj",
        "colab_type": "code",
        "colab": {
          "base_uri": "https://localhost:8080/",
          "height": 51
        },
        "outputId": "52e76fc9-8c0e-4b24-8b83-b9bcb458aaed"
      },
      "source": [
        "from tensorflow.keras.preprocessing.image import ImageDataGenerator\n",
        "\n",
        "# All images will be rescaled by 1./255\n",
        "train_datagen = ImageDataGenerator(\n",
        "      rescale=1./255,\n",
        "      rotation_range=40,\n",
        "      width_shift_range=0.2,\n",
        "      height_shift_range=0.2,\n",
        "      shear_range=0.2,\n",
        "      zoom_range=0.2,\n",
        "      horizontal_flip=True,\n",
        "      fill_mode='nearest')\n",
        "\n",
        "validation_datagen = ImageDataGenerator(rescale=1./255)\n",
        "\n",
        "# Flow training images in batches of 128 using train_datagen generator\n",
        "train_generator = train_datagen.flow_from_directory(\n",
        "        '/tmp/horse-or-human/',  # This is the source directory for training images\n",
        "        target_size=(300, 300),  # All images will be resized to 150x150\n",
        "        batch_size=128,\n",
        "        # Since we use binary_crossentropy loss, we need binary labels\n",
        "        class_mode='binary')\n",
        "\n",
        "# Flow training images in batches of 128 using train_datagen generator\n",
        "validation_generator = validation_datagen.flow_from_directory(\n",
        "        '/tmp/validation-horse-or-human/',  # This is the source directory for training images\n",
        "        target_size=(300, 300),  # All images will be resized to 150x150\n",
        "        batch_size=32,\n",
        "        # Since we use binary_crossentropy loss, we need binary labels\n",
        "        class_mode='binary')"
      ],
      "execution_count": null,
      "outputs": [
        {
          "output_type": "stream",
          "text": [
            "Found 1027 images belonging to 2 classes.\n",
            "Found 256 images belonging to 2 classes.\n"
          ],
          "name": "stdout"
        }
      ]
    },
    {
      "cell_type": "markdown",
      "metadata": {
        "id": "mEGDU8RoFuu4",
        "colab_type": "text"
      },
      "source": [
        "# Model Definition\n",
        "\n",
        "Take an RGB image directly into a convolutional layer.\n",
        "\n",
        "Note the use of a single sigmoid neuron as the output layer since there are only two classes possible. (Zero output means confident horse, an output of one means confident human.) "
      ]
    },
    {
      "cell_type": "code",
      "metadata": {
        "id": "qWsw0G6ZFydu",
        "colab_type": "code",
        "colab": {}
      },
      "source": [
        "model = tf.keras.models.Sequential([\n",
        "    # Note the input shape is the desired size of the image 300x300 with 3 bytes color\n",
        "    tf.keras.layers.Conv2D(16, (3,3), activation=tf.nn.relu,\n",
        "                           input_shape=(300, 300, 3)),\n",
        "    tf.keras.layers.MaxPooling2D(2, 2),\n",
        "\n",
        "    tf.keras.layers.Conv2D(32, (3,3), activation=tf.nn.relu),\n",
        "    tf.keras.layers.MaxPooling2D(2,2),\n",
        "\n",
        "    tf.keras.layers.Conv2D(64, (3,3), activation=tf.nn.relu),\n",
        "    tf.keras.layers.MaxPooling2D(2,2),\n",
        "\n",
        "    tf.keras.layers.Conv2D(64, (3,3), activation=tf.nn.relu),\n",
        "    tf.keras.layers.MaxPooling2D(2,2),\n",
        "\n",
        "    tf.keras.layers.Conv2D(64, (3,3), activation=tf.nn.relu),\n",
        "    tf.keras.layers.MaxPooling2D(2,2),\n",
        "    tf.keras.layers.Flatten(),\n",
        "\n",
        "    tf.keras.layers.Dense(512, activation=tf.nn.relu),\n",
        "\n",
        "    # One sigmoid output: zero means 'horses' and one means 'humans'\n",
        "    tf.keras.layers.Dense(1, activation=tf.nn.sigmoid)\n",
        "])"
      ],
      "execution_count": null,
      "outputs": []
    },
    {
      "cell_type": "markdown",
      "metadata": {
        "id": "-t4_wC_mGO4m",
        "colab_type": "text"
      },
      "source": [
        "# Loss Function\n",
        "\n",
        "`binary_crossentropy` matches the single sigmoidal output for this binary classification task.\n",
        "\n",
        "# Training\n",
        "\n",
        "Using `RMSProp` for gradient descent."
      ]
    },
    {
      "cell_type": "code",
      "metadata": {
        "id": "dI1oi1Q-TrQz",
        "colab_type": "code",
        "colab": {}
      },
      "source": [
        "model.compile(loss='binary_crossentropy',\n",
        "              optimizer=tf.keras.optimizers.RMSprop(lr=1e-4),\n",
        "              metrics=['accuracy'])"
      ],
      "execution_count": null,
      "outputs": []
    },
    {
      "cell_type": "markdown",
      "metadata": {
        "id": "HRcVYK6aWUbr",
        "colab_type": "text"
      },
      "source": [
        "In model.fit, the \"steps\" are passes through a batch. So if the batch size is 128 for training, the `steps_per_epoch=8` means 1024 samples will be used in 8 gradient descent updates.\n",
        "\n",
        "Likewise, `validation_steps=8` means at the end of each epoch, 8 passes over validation batches (set at 32 samples above) will be used to compute the validation metrics. For this reason, it's not a bad idea to make sure that every sample is hit once in the valdiation, e.g., `validation_steps = validation_samples // validation_batch_size`. (In this case, batch = 32, samples = 256 so 8 steps makes sense.)"
      ]
    },
    {
      "cell_type": "code",
      "metadata": {
        "id": "ttbhiv2PTywM",
        "colab_type": "code",
        "colab": {
          "base_uri": "https://localhost:8080/",
          "height": 1000
        },
        "outputId": "e6fd64f8-ffc2-4c9c-8e94-5be801d3fbe7"
      },
      "source": [
        "history = model.fit(\n",
        "      train_generator,\n",
        "      steps_per_epoch=8,\n",
        "      epochs=100,\n",
        "      verbose=1,\n",
        "      validation_data=validation_generator,\n",
        "      validation_steps=8)"
      ],
      "execution_count": null,
      "outputs": [
        {
          "output_type": "stream",
          "text": [
            "Epoch 1/100\n",
            "8/8 [==============================] - 16s 2s/step - loss: 0.6893 - accuracy: 0.5484 - val_loss: 0.6692 - val_accuracy: 0.5000\n",
            "Epoch 2/100\n",
            "8/8 [==============================] - 18s 2s/step - loss: 0.6642 - accuracy: 0.5818 - val_loss: 0.6752 - val_accuracy: 0.5000\n",
            "Epoch 3/100\n",
            "8/8 [==============================] - 18s 2s/step - loss: 0.6246 - accuracy: 0.6830 - val_loss: 0.6460 - val_accuracy: 0.5000\n",
            "Epoch 4/100\n",
            "8/8 [==============================] - 18s 2s/step - loss: 0.6144 - accuracy: 0.6596 - val_loss: 0.5877 - val_accuracy: 0.6367\n",
            "Epoch 5/100\n",
            "8/8 [==============================] - 18s 2s/step - loss: 0.5869 - accuracy: 0.6986 - val_loss: 0.6153 - val_accuracy: 0.5469\n",
            "Epoch 6/100\n",
            "8/8 [==============================] - 18s 2s/step - loss: 0.5397 - accuracy: 0.7475 - val_loss: 0.5840 - val_accuracy: 0.6094\n",
            "Epoch 7/100\n",
            "8/8 [==============================] - 21s 3s/step - loss: 0.5886 - accuracy: 0.7019 - val_loss: 0.7131 - val_accuracy: 0.5312\n",
            "Epoch 8/100\n",
            "8/8 [==============================] - 18s 2s/step - loss: 0.5172 - accuracy: 0.7519 - val_loss: 0.7946 - val_accuracy: 0.5312\n",
            "Epoch 9/100\n",
            "8/8 [==============================] - 18s 2s/step - loss: 0.5199 - accuracy: 0.7442 - val_loss: 0.6134 - val_accuracy: 0.6289\n",
            "Epoch 10/100\n",
            "8/8 [==============================] - 18s 2s/step - loss: 0.5185 - accuracy: 0.7386 - val_loss: 0.5661 - val_accuracy: 0.6562\n",
            "Epoch 11/100\n",
            "8/8 [==============================] - 18s 2s/step - loss: 0.4879 - accuracy: 0.7686 - val_loss: 0.6986 - val_accuracy: 0.6016\n",
            "Epoch 12/100\n",
            "8/8 [==============================] - 20s 3s/step - loss: 0.4489 - accuracy: 0.7881 - val_loss: 0.7186 - val_accuracy: 0.6172\n",
            "Epoch 13/100\n",
            "8/8 [==============================] - 18s 2s/step - loss: 0.4801 - accuracy: 0.7664 - val_loss: 0.7016 - val_accuracy: 0.6250\n",
            "Epoch 14/100\n",
            "8/8 [==============================] - 18s 2s/step - loss: 0.4504 - accuracy: 0.7898 - val_loss: 0.9375 - val_accuracy: 0.5742\n",
            "Epoch 15/100\n",
            "8/8 [==============================] - 20s 3s/step - loss: 0.4428 - accuracy: 0.7949 - val_loss: 0.5146 - val_accuracy: 0.7344\n",
            "Epoch 16/100\n",
            "8/8 [==============================] - 18s 2s/step - loss: 0.4332 - accuracy: 0.8076 - val_loss: 1.1113 - val_accuracy: 0.5391\n",
            "Epoch 17/100\n",
            "8/8 [==============================] - 20s 3s/step - loss: 0.4175 - accuracy: 0.8008 - val_loss: 1.6086 - val_accuracy: 0.5156\n",
            "Epoch 18/100\n",
            "8/8 [==============================] - 21s 3s/step - loss: 0.3950 - accuracy: 0.8220 - val_loss: 1.2582 - val_accuracy: 0.5508\n",
            "Epoch 19/100\n",
            "8/8 [==============================] - 18s 2s/step - loss: 0.4238 - accuracy: 0.8098 - val_loss: 1.0886 - val_accuracy: 0.5938\n",
            "Epoch 20/100\n",
            "8/8 [==============================] - 18s 2s/step - loss: 0.3730 - accuracy: 0.8298 - val_loss: 0.9236 - val_accuracy: 0.6484\n",
            "Epoch 21/100\n",
            "8/8 [==============================] - 18s 2s/step - loss: 0.4342 - accuracy: 0.7731 - val_loss: 1.2053 - val_accuracy: 0.5820\n",
            "Epoch 22/100\n",
            "8/8 [==============================] - 18s 2s/step - loss: 0.4104 - accuracy: 0.8198 - val_loss: 1.1109 - val_accuracy: 0.6172\n",
            "Epoch 23/100\n",
            "8/8 [==============================] - 18s 2s/step - loss: 0.4370 - accuracy: 0.7998 - val_loss: 1.1911 - val_accuracy: 0.5938\n",
            "Epoch 24/100\n",
            "8/8 [==============================] - 18s 2s/step - loss: 0.3651 - accuracy: 0.8331 - val_loss: 0.9738 - val_accuracy: 0.6367\n",
            "Epoch 25/100\n",
            "8/8 [==============================] - 18s 2s/step - loss: 0.3922 - accuracy: 0.8265 - val_loss: 0.9600 - val_accuracy: 0.6445\n",
            "Epoch 26/100\n",
            "8/8 [==============================] - 18s 2s/step - loss: 0.3543 - accuracy: 0.8309 - val_loss: 1.2551 - val_accuracy: 0.6133\n",
            "Epoch 27/100\n",
            "8/8 [==============================] - 21s 3s/step - loss: 0.3919 - accuracy: 0.8209 - val_loss: 1.4361 - val_accuracy: 0.5859\n",
            "Epoch 28/100\n",
            "8/8 [==============================] - 18s 2s/step - loss: 0.3326 - accuracy: 0.8632 - val_loss: 1.2598 - val_accuracy: 0.6328\n",
            "Epoch 29/100\n",
            "8/8 [==============================] - 21s 3s/step - loss: 0.3387 - accuracy: 0.8443 - val_loss: 0.9557 - val_accuracy: 0.6953\n",
            "Epoch 30/100\n",
            "8/8 [==============================] - 18s 2s/step - loss: 0.3660 - accuracy: 0.8309 - val_loss: 1.4420 - val_accuracy: 0.6094\n",
            "Epoch 31/100\n",
            "8/8 [==============================] - 18s 2s/step - loss: 0.2868 - accuracy: 0.8877 - val_loss: 2.2026 - val_accuracy: 0.5469\n",
            "Epoch 32/100\n",
            "8/8 [==============================] - 18s 2s/step - loss: 0.3216 - accuracy: 0.8587 - val_loss: 1.3171 - val_accuracy: 0.6562\n",
            "Epoch 33/100\n",
            "8/8 [==============================] - 18s 2s/step - loss: 0.3624 - accuracy: 0.8242 - val_loss: 1.3028 - val_accuracy: 0.6250\n",
            "Epoch 34/100\n",
            "8/8 [==============================] - 18s 2s/step - loss: 0.2952 - accuracy: 0.8687 - val_loss: 2.1552 - val_accuracy: 0.5430\n",
            "Epoch 35/100\n",
            "8/8 [==============================] - 18s 2s/step - loss: 0.2961 - accuracy: 0.8687 - val_loss: 2.5916 - val_accuracy: 0.5312\n",
            "Epoch 36/100\n",
            "8/8 [==============================] - 18s 2s/step - loss: 0.3015 - accuracy: 0.8754 - val_loss: 2.4357 - val_accuracy: 0.5312\n",
            "Epoch 37/100\n",
            "8/8 [==============================] - 18s 2s/step - loss: 0.3434 - accuracy: 0.8443 - val_loss: 1.4743 - val_accuracy: 0.6055\n",
            "Epoch 38/100\n",
            "8/8 [==============================] - 18s 2s/step - loss: 0.2914 - accuracy: 0.8765 - val_loss: 1.8130 - val_accuracy: 0.5820\n",
            "Epoch 39/100\n",
            "8/8 [==============================] - 18s 2s/step - loss: 0.3281 - accuracy: 0.8632 - val_loss: 1.5118 - val_accuracy: 0.6094\n",
            "Epoch 40/100\n",
            "8/8 [==============================] - 18s 2s/step - loss: 0.2608 - accuracy: 0.8999 - val_loss: 1.2038 - val_accuracy: 0.7070\n",
            "Epoch 41/100\n",
            "8/8 [==============================] - 20s 3s/step - loss: 0.2906 - accuracy: 0.8643 - val_loss: 1.8203 - val_accuracy: 0.5938\n",
            "Epoch 42/100\n",
            "8/8 [==============================] - 20s 3s/step - loss: 0.2946 - accuracy: 0.8843 - val_loss: 1.4058 - val_accuracy: 0.6641\n",
            "Epoch 43/100\n",
            "8/8 [==============================] - 18s 2s/step - loss: 0.2693 - accuracy: 0.8743 - val_loss: 2.0645 - val_accuracy: 0.5703\n",
            "Epoch 44/100\n",
            "8/8 [==============================] - 20s 3s/step - loss: 0.2512 - accuracy: 0.8936 - val_loss: 2.1098 - val_accuracy: 0.5664\n",
            "Epoch 45/100\n",
            "8/8 [==============================] - 20s 3s/step - loss: 0.2818 - accuracy: 0.8854 - val_loss: 1.7318 - val_accuracy: 0.6328\n",
            "Epoch 46/100\n",
            "8/8 [==============================] - 18s 2s/step - loss: 0.3504 - accuracy: 0.8565 - val_loss: 1.6448 - val_accuracy: 0.6289\n",
            "Epoch 47/100\n",
            "8/8 [==============================] - 20s 3s/step - loss: 0.3012 - accuracy: 0.8643 - val_loss: 1.7027 - val_accuracy: 0.6328\n",
            "Epoch 48/100\n",
            "8/8 [==============================] - 18s 2s/step - loss: 0.2358 - accuracy: 0.9043 - val_loss: 1.8559 - val_accuracy: 0.6211\n",
            "Epoch 49/100\n",
            "8/8 [==============================] - 18s 2s/step - loss: 0.2281 - accuracy: 0.9032 - val_loss: 2.0777 - val_accuracy: 0.5781\n",
            "Epoch 50/100\n",
            "8/8 [==============================] - 20s 3s/step - loss: 0.3384 - accuracy: 0.8654 - val_loss: 1.7914 - val_accuracy: 0.6172\n",
            "Epoch 51/100\n",
            "8/8 [==============================] - 18s 2s/step - loss: 0.2365 - accuracy: 0.9099 - val_loss: 1.7302 - val_accuracy: 0.6406\n",
            "Epoch 52/100\n",
            "8/8 [==============================] - 18s 2s/step - loss: 0.2228 - accuracy: 0.9177 - val_loss: 2.1016 - val_accuracy: 0.5938\n",
            "Epoch 53/100\n",
            "8/8 [==============================] - 18s 2s/step - loss: 0.2692 - accuracy: 0.8776 - val_loss: 2.0882 - val_accuracy: 0.5820\n",
            "Epoch 54/100\n",
            "8/8 [==============================] - 18s 2s/step - loss: 0.2829 - accuracy: 0.8821 - val_loss: 1.1998 - val_accuracy: 0.7031\n",
            "Epoch 55/100\n",
            "8/8 [==============================] - 18s 2s/step - loss: 0.2293 - accuracy: 0.9121 - val_loss: 1.9495 - val_accuracy: 0.6445\n",
            "Epoch 56/100\n",
            "8/8 [==============================] - 20s 3s/step - loss: 0.2391 - accuracy: 0.9010 - val_loss: 2.2567 - val_accuracy: 0.5938\n",
            "Epoch 57/100\n",
            "8/8 [==============================] - 18s 2s/step - loss: 0.2196 - accuracy: 0.9143 - val_loss: 2.3934 - val_accuracy: 0.5898\n",
            "Epoch 58/100\n",
            "8/8 [==============================] - 18s 2s/step - loss: 0.2355 - accuracy: 0.9021 - val_loss: 2.0371 - val_accuracy: 0.6367\n",
            "Epoch 59/100\n",
            "8/8 [==============================] - 18s 2s/step - loss: 0.2264 - accuracy: 0.9032 - val_loss: 4.1417 - val_accuracy: 0.5078\n",
            "Epoch 60/100\n",
            "8/8 [==============================] - 20s 2s/step - loss: 0.2640 - accuracy: 0.8975 - val_loss: 2.4800 - val_accuracy: 0.6016\n",
            "Epoch 61/100\n",
            "8/8 [==============================] - 18s 2s/step - loss: 0.1834 - accuracy: 0.9321 - val_loss: 1.3285 - val_accuracy: 0.7148\n",
            "Epoch 62/100\n",
            "8/8 [==============================] - 18s 2s/step - loss: 0.2482 - accuracy: 0.8810 - val_loss: 1.9802 - val_accuracy: 0.6602\n",
            "Epoch 63/100\n",
            "8/8 [==============================] - 18s 2s/step - loss: 0.2351 - accuracy: 0.9043 - val_loss: 2.2325 - val_accuracy: 0.6211\n",
            "Epoch 64/100\n",
            "8/8 [==============================] - 20s 3s/step - loss: 0.1865 - accuracy: 0.9232 - val_loss: 2.2521 - val_accuracy: 0.6445\n",
            "Epoch 65/100\n",
            "8/8 [==============================] - 18s 2s/step - loss: 0.1855 - accuracy: 0.9244 - val_loss: 2.0750 - val_accuracy: 0.6562\n",
            "Epoch 66/100\n",
            "8/8 [==============================] - 18s 2s/step - loss: 0.2529 - accuracy: 0.8921 - val_loss: 1.7830 - val_accuracy: 0.6680\n",
            "Epoch 67/100\n",
            "8/8 [==============================] - 20s 2s/step - loss: 0.1630 - accuracy: 0.9385 - val_loss: 2.2646 - val_accuracy: 0.6523\n",
            "Epoch 68/100\n",
            "8/8 [==============================] - 18s 2s/step - loss: 0.1847 - accuracy: 0.9210 - val_loss: 1.8125 - val_accuracy: 0.6836\n",
            "Epoch 69/100\n",
            "8/8 [==============================] - 18s 2s/step - loss: 0.2285 - accuracy: 0.9032 - val_loss: 1.9051 - val_accuracy: 0.6641\n",
            "Epoch 70/100\n",
            "8/8 [==============================] - 20s 2s/step - loss: 0.1747 - accuracy: 0.9229 - val_loss: 2.4141 - val_accuracy: 0.6289\n",
            "Epoch 71/100\n",
            "8/8 [==============================] - 18s 2s/step - loss: 0.2377 - accuracy: 0.8899 - val_loss: 1.4229 - val_accuracy: 0.7109\n",
            "Epoch 72/100\n",
            "8/8 [==============================] - 20s 3s/step - loss: 0.1740 - accuracy: 0.9344 - val_loss: 2.1187 - val_accuracy: 0.6562\n",
            "Epoch 73/100\n",
            "8/8 [==============================] - 18s 2s/step - loss: 0.2282 - accuracy: 0.9066 - val_loss: 2.0240 - val_accuracy: 0.6562\n",
            "Epoch 74/100\n",
            "8/8 [==============================] - 20s 2s/step - loss: 0.1547 - accuracy: 0.9365 - val_loss: 2.6070 - val_accuracy: 0.6211\n",
            "Epoch 75/100\n",
            "8/8 [==============================] - 18s 2s/step - loss: 0.1967 - accuracy: 0.9188 - val_loss: 2.8071 - val_accuracy: 0.5977\n",
            "Epoch 76/100\n",
            "8/8 [==============================] - 20s 3s/step - loss: 0.2247 - accuracy: 0.9099 - val_loss: 2.4843 - val_accuracy: 0.6250\n",
            "Epoch 77/100\n",
            "8/8 [==============================] - 18s 2s/step - loss: 0.1952 - accuracy: 0.9266 - val_loss: 2.1721 - val_accuracy: 0.6328\n",
            "Epoch 78/100\n",
            "8/8 [==============================] - 20s 2s/step - loss: 0.1637 - accuracy: 0.9307 - val_loss: 2.7212 - val_accuracy: 0.6055\n",
            "Epoch 79/100\n",
            "8/8 [==============================] - 17s 2s/step - loss: 0.1539 - accuracy: 0.9433 - val_loss: 1.7899 - val_accuracy: 0.6914\n",
            "Epoch 80/100\n",
            "8/8 [==============================] - 18s 2s/step - loss: 0.1599 - accuracy: 0.9399 - val_loss: 2.1999 - val_accuracy: 0.6680\n",
            "Epoch 81/100\n",
            "8/8 [==============================] - 18s 2s/step - loss: 0.1689 - accuracy: 0.9355 - val_loss: 3.5795 - val_accuracy: 0.5859\n",
            "Epoch 82/100\n",
            "8/8 [==============================] - 18s 2s/step - loss: 0.1936 - accuracy: 0.9188 - val_loss: 1.5925 - val_accuracy: 0.7188\n",
            "Epoch 83/100\n",
            "8/8 [==============================] - 18s 2s/step - loss: 0.1734 - accuracy: 0.9255 - val_loss: 2.0977 - val_accuracy: 0.6719\n",
            "Epoch 84/100\n",
            "8/8 [==============================] - 20s 2s/step - loss: 0.1695 - accuracy: 0.9365 - val_loss: 2.0409 - val_accuracy: 0.6641\n",
            "Epoch 85/100\n",
            "8/8 [==============================] - 18s 2s/step - loss: 0.1642 - accuracy: 0.9288 - val_loss: 3.6363 - val_accuracy: 0.5586\n",
            "Epoch 86/100\n",
            "8/8 [==============================] - 18s 2s/step - loss: 0.1425 - accuracy: 0.9522 - val_loss: 2.4566 - val_accuracy: 0.6445\n",
            "Epoch 87/100\n",
            "8/8 [==============================] - 18s 2s/step - loss: 0.1696 - accuracy: 0.9366 - val_loss: 0.8426 - val_accuracy: 0.8086\n",
            "Epoch 88/100\n",
            "8/8 [==============================] - 18s 2s/step - loss: 0.2049 - accuracy: 0.9110 - val_loss: 3.5297 - val_accuracy: 0.5703\n",
            "Epoch 89/100\n",
            "8/8 [==============================] - 20s 3s/step - loss: 0.1422 - accuracy: 0.9388 - val_loss: 1.5258 - val_accuracy: 0.7461\n",
            "Epoch 90/100\n",
            "8/8 [==============================] - 18s 2s/step - loss: 0.1553 - accuracy: 0.9366 - val_loss: 2.8747 - val_accuracy: 0.6133\n",
            "Epoch 91/100\n",
            "8/8 [==============================] - 20s 3s/step - loss: 0.2674 - accuracy: 0.8888 - val_loss: 2.0697 - val_accuracy: 0.6523\n",
            "Epoch 92/100\n",
            "8/8 [==============================] - 18s 2s/step - loss: 0.1194 - accuracy: 0.9544 - val_loss: 2.6900 - val_accuracy: 0.6211\n",
            "Epoch 93/100\n",
            "8/8 [==============================] - 18s 2s/step - loss: 0.1450 - accuracy: 0.9477 - val_loss: 2.2399 - val_accuracy: 0.6484\n",
            "Epoch 94/100\n",
            "8/8 [==============================] - 18s 2s/step - loss: 0.2186 - accuracy: 0.9210 - val_loss: 2.5154 - val_accuracy: 0.6328\n",
            "Epoch 95/100\n",
            "8/8 [==============================] - 18s 2s/step - loss: 0.1101 - accuracy: 0.9655 - val_loss: 2.5575 - val_accuracy: 0.6367\n",
            "Epoch 96/100\n",
            "8/8 [==============================] - 18s 2s/step - loss: 0.2213 - accuracy: 0.9333 - val_loss: 2.7723 - val_accuracy: 0.6250\n",
            "Epoch 97/100\n",
            "8/8 [==============================] - 20s 3s/step - loss: 0.1219 - accuracy: 0.9577 - val_loss: 2.8690 - val_accuracy: 0.6289\n",
            "Epoch 98/100\n",
            "8/8 [==============================] - 18s 2s/step - loss: 0.1574 - accuracy: 0.9321 - val_loss: 4.0531 - val_accuracy: 0.5469\n",
            "Epoch 99/100\n",
            "8/8 [==============================] - 18s 2s/step - loss: 0.1270 - accuracy: 0.9511 - val_loss: 2.7122 - val_accuracy: 0.6445\n",
            "Epoch 100/100\n",
            "8/8 [==============================] - 18s 2s/step - loss: 0.0936 - accuracy: 0.9733 - val_loss: 2.2344 - val_accuracy: 0.6992\n"
          ],
          "name": "stdout"
        }
      ]
    },
    {
      "cell_type": "markdown",
      "metadata": {
        "id": "wsaYIgV9HWbs",
        "colab_type": "text"
      },
      "source": [
        "\n",
        "# Visualization\n",
        "\n",
        "Use the recorded history to compare train and validation accuracy to test for overfitting."
      ]
    },
    {
      "cell_type": "code",
      "metadata": {
        "id": "GD_ykrVGG61V",
        "colab_type": "code",
        "colab": {
          "base_uri": "https://localhost:8080/",
          "height": 545
        },
        "outputId": "63c87e0b-ef62-4175-d63c-0d276c6382b2"
      },
      "source": [
        "import matplotlib.pyplot as plt\n",
        "\n",
        "acc = history.history['accuracy']\n",
        "val_acc = history.history['val_accuracy']\n",
        "loss = history.history['loss']\n",
        "val_loss = history.history['val_loss']\n",
        "\n",
        "epochs = range(len(acc))\n",
        "\n",
        "plt.plot(epochs, acc, 'r', label='Training accuracy')\n",
        "plt.plot(epochs, val_acc, 'b', label='Validation accuracy')\n",
        "plt.title('Training and validation accuracy')\n",
        "\n",
        "plt.figure()\n",
        "\n",
        "plt.plot(epochs, loss, 'r', label='Training Loss')\n",
        "plt.plot(epochs, val_loss, 'b', label='Validation Loss')\n",
        "plt.title('Training and validation loss')\n",
        "plt.legend()\n",
        "\n",
        "plt.show()"
      ],
      "execution_count": null,
      "outputs": [
        {
          "output_type": "display_data",
          "data": {
            "image/png": "[encoded data removed]",
            "text/plain": [
              "<Figure size 432x288 with 1 Axes>"
            ]
          },
          "metadata": {
            "tags": [],
            "needs_background": "light"
          }
        },
        {
          "output_type": "display_data",
          "data": {
            "image/png": "[encoded data removed]",
            "text/plain": [
              "<Figure size 432x288 with 1 Axes>"
            ]
          },
          "metadata": {
            "tags": [],
            "needs_background": "light"
          }
        }
      ]
    },
    {
      "cell_type": "markdown",
      "metadata": {
        "id": "y2ePGrexHzxe",
        "colab_type": "text"
      },
      "source": [
        "# Results\n",
        "\n",
        "Expect an accuracy of almost 0.9."
      ]
    }
  ]
}