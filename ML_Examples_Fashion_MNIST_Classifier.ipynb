{
  "nbformat": 4,
  "nbformat_minor": 0,
  "metadata": {
    "colab": {
      "name": "ML Examples: Fashion MNIST Classifier",
      "provenance": [],
      "collapsed_sections": [],
      "authorship_tag": "ABX9TyO7GuEu6z4MnMP3ZyNkOx2T",
      "include_colab_link": true
    },
    "kernelspec": {
      "name": "python3",
      "display_name": "Python 3"
    }
  },
  "cells": [
    {
      "cell_type": "markdown",
      "metadata": {
        "id": "view-in-github",
        "colab_type": "text"
      },
      "source": [
        "<a href=\"https://colab.research.google.com/github/slightperturbation/ml_examples/blob/master/ML_Examples_Fashion_MNIST_Classifier.ipynb\" target=\"_parent\"><img src=\"https://colab.research.google.com/assets/colab-badge.svg\" alt=\"Open In Colab\"/></a>"
      ]
    },
    {
      "cell_type": "markdown",
      "metadata": {
        "id": "aC-gHLf7Habt",
        "colab_type": "text"
      },
      "source": [
        "\n",
        "# Fashion MNIST Classifier\n"
      ]
    },
    {
      "cell_type": "code",
      "metadata": {
        "id": "iTLUbN1aEEy_",
        "colab_type": "code",
        "colab": {}
      },
      "source": [
        "import tensorflow as tf"
      ],
      "execution_count": 1,
      "outputs": []
    },
    {
      "cell_type": "markdown",
      "metadata": {
        "id": "oB4BgcmgFcRf",
        "colab_type": "text"
      },
      "source": [
        "# Input\n",
        "\n",
        "Input during training from in-memory numpy arrays drawn from the Tensorflow example dataset fashion_mnist."
      ]
    },
    {
      "cell_type": "code",
      "metadata": {
        "id": "KL-eJMnYFqa-",
        "colab_type": "code",
        "colab": {}
      },
      "source": [
        "(image_train, label_train), (_, _) = tf.keras.datasets.fashion_mnist.load_data()\n",
        "\n",
        "# Normalize the pixel data from 8-bit integer representation [0, 255] to the floating point range [0, 1].\n",
        "image_train = image_train / 255.0"
      ],
      "execution_count": 2,
      "outputs": []
    },
    {
      "cell_type": "markdown",
      "metadata": {
        "id": "gIjOTCP5LQNg",
        "colab_type": "text"
      },
      "source": [
        "The labels are integers from 0 to 10 specifying the labels."
      ]
    },
    {
      "cell_type": "code",
      "metadata": {
        "id": "xZRWWc1NLLAF",
        "colab_type": "code",
        "colab": {
          "base_uri": "https://localhost:8080/",
          "height": 34
        },
        "outputId": "52bf7ae6-63ae-4b69-8b74-fd3bfb961a71"
      },
      "source": [
        "print(label_train[:10])"
      ],
      "execution_count": 3,
      "outputs": [
        {
          "output_type": "stream",
          "text": [
            "[9 0 0 3 0 2 7 2 5 5]\n"
          ],
          "name": "stdout"
        }
      ]
    },
    {
      "cell_type": "markdown",
      "metadata": {
        "id": "Y0tOrjJFLYZH",
        "colab_type": "text"
      },
      "source": [
        "We will train a network with 10 one-hot softmax outputs by using the Keras `sparse_categorical_crossentropy` loss and metric. These \"sparse\" versions automatically convert the input labels from integers to a one-hot vector of length 10. "
      ]
    },
    {
      "cell_type": "markdown",
      "metadata": {
        "id": "mEGDU8RoFuu4",
        "colab_type": "text"
      },
      "source": [
        "# Model Definition\n",
        "\n",
        "Shows taking an image and treating it like a 1D array of inputs using Flatten.\n",
        "\n",
        "Note the use of `tf.nn.softmax` as the output layer because there are 10 classes possible."
      ]
    },
    {
      "cell_type": "code",
      "metadata": {
        "id": "qWsw0G6ZFydu",
        "colab_type": "code",
        "colab": {}
      },
      "source": [
        "model = tf.keras.models.Sequential([\n",
        "  tf.keras.layers.Flatten(input_shape=(28, 28)),\n",
        "  tf.keras.layers.Dense(512, activation=tf.nn.relu),\n",
        "  tf.keras.layers.Dense(10, activation=tf.nn.softmax)\n",
        "])"
      ],
      "execution_count": 4,
      "outputs": []
    },
    {
      "cell_type": "markdown",
      "metadata": {
        "id": "-t4_wC_mGO4m",
        "colab_type": "text"
      },
      "source": [
        "# Loss Function\n",
        "\n",
        "`sparse_categorical_crossentropy` matches the one-hot softmax output and the classification task.\n",
        "\n",
        "# Training\n",
        "\n",
        "Using `Adam` for gradient descent.\n",
        "\n",
        "# Evaluation\n",
        "\n",
        "Tracking only the training accuracy using the special Keras metric keyword `accuracy`. \n",
        "\n",
        "Note that using the magic string `accuracy` lets model.compile() select the appropriate metric for the given loss function, so here it's the same as specifying `tf.keras.metrics.SparseCategoricalAccuracy()`."
      ]
    },
    {
      "cell_type": "code",
      "metadata": {
        "id": "M5QWjmp4GSWK",
        "colab_type": "code",
        "colab": {}
      },
      "source": [
        "model.compile(optimizer=tf.optimizers.Adam(),\n",
        "              loss=tf.keras.losses.sparse_categorical_crossentropy,\n",
        "              metrics=['accuracy'])"
      ],
      "execution_count": 5,
      "outputs": []
    },
    {
      "cell_type": "markdown",
      "metadata": {
        "id": "wsaYIgV9HWbs",
        "colab_type": "text"
      },
      "source": [
        "\n",
        "# Visualization\n",
        "\n",
        "Use only the textual output of the fit function to visualize the result."
      ]
    },
    {
      "cell_type": "code",
      "metadata": {
        "id": "GD_ykrVGG61V",
        "colab_type": "code",
        "colab": {
          "base_uri": "https://localhost:8080/",
          "height": 204
        },
        "outputId": "b50b72f1-dd6e-4a66-b3f9-2c4a70017c7a"
      },
      "source": [
        "model.fit(image_train, label_train, epochs=5)"
      ],
      "execution_count": 6,
      "outputs": [
        {
          "output_type": "stream",
          "text": [
            "Epoch 1/5\n",
            "1875/1875 [==============================] - 9s 5ms/step - loss: 0.4729 - accuracy: 0.8309\n",
            "Epoch 2/5\n",
            "1875/1875 [==============================] - 9s 5ms/step - loss: 0.3601 - accuracy: 0.8694\n",
            "Epoch 3/5\n",
            "1875/1875 [==============================] - 8s 4ms/step - loss: 0.3228 - accuracy: 0.8809\n",
            "Epoch 4/5\n",
            "1875/1875 [==============================] - 8s 4ms/step - loss: 0.2977 - accuracy: 0.8889\n",
            "Epoch 5/5\n",
            "1875/1875 [==============================] - 8s 4ms/step - loss: 0.2821 - accuracy: 0.8955\n"
          ],
          "name": "stdout"
        },
        {
          "output_type": "execute_result",
          "data": {
            "text/plain": [
              "<tensorflow.python.keras.callbacks.History at 0x7f2b2f4496a0>"
            ]
          },
          "metadata": {
            "tags": []
          },
          "execution_count": 6
        }
      ]
    },
    {
      "cell_type": "markdown",
      "metadata": {
        "id": "y2ePGrexHzxe",
        "colab_type": "text"
      },
      "source": [
        "# Results\n",
        "\n",
        "Expect an accuracy of almost 0.9."
      ]
    }
  ]
}